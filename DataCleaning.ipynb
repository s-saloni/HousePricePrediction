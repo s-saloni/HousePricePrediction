{
 "cells": [
  {
   "cell_type": "markdown",
   "metadata": {},
   "source": [
    "# Data Cleaning\n",
    "**Kaggle Competition:** House Prices: Advanced Regression Techniques\n",
    "\n",
    "Saloni Sharma\n",
    "***\n",
    "In this notebook, I will clean the data set by replacing null values as well as removing a few entire columns. This entire notebook will be run twice, once for the training set and once for the test data set."
   ]
  },
  {
   "cell_type": "code",
   "execution_count": 1,
   "metadata": {},
   "outputs": [],
   "source": [
    "# import necessary library\n",
    "import pandas as pd"
   ]
  },
  {
   "cell_type": "markdown",
   "metadata": {},
   "source": [
    "## 1. View data"
   ]
  },
  {
   "cell_type": "code",
   "execution_count": 2,
   "metadata": {},
   "outputs": [],
   "source": [
    "# Load data set\n",
    "train = pd.read_csv(\"house-prices-advanced-regression-techniques/train.csv\")"
   ]
  },
  {
   "cell_type": "code",
   "execution_count": 3,
   "metadata": {},
   "outputs": [
    {
     "name": "stdout",
     "output_type": "stream",
     "text": [
      "There are 1460 rows in the data set.\n"
     ]
    }
   ],
   "source": [
    "print(\"There are\", len(train), \"rows in the data set.\")"
   ]
  },
  {
   "cell_type": "code",
   "execution_count": 4,
   "metadata": {},
   "outputs": [
    {
     "name": "stdout",
     "output_type": "stream",
     "text": [
      "<class 'pandas.core.frame.DataFrame'>\n",
      "RangeIndex: 1460 entries, 0 to 1459\n",
      "Data columns (total 81 columns):\n",
      " #   Column         Non-Null Count  Dtype  \n",
      "---  ------         --------------  -----  \n",
      " 0   Id             1460 non-null   int64  \n",
      " 1   MSSubClass     1460 non-null   int64  \n",
      " 2   MSZoning       1460 non-null   object \n",
      " 3   LotFrontage    1201 non-null   float64\n",
      " 4   LotArea        1460 non-null   int64  \n",
      " 5   Street         1460 non-null   object \n",
      " 6   Alley          91 non-null     object \n",
      " 7   LotShape       1460 non-null   object \n",
      " 8   LandContour    1460 non-null   object \n",
      " 9   Utilities      1460 non-null   object \n",
      " 10  LotConfig      1460 non-null   object \n",
      " 11  LandSlope      1460 non-null   object \n",
      " 12  Neighborhood   1460 non-null   object \n",
      " 13  Condition1     1460 non-null   object \n",
      " 14  Condition2     1460 non-null   object \n",
      " 15  BldgType       1460 non-null   object \n",
      " 16  HouseStyle     1460 non-null   object \n",
      " 17  OverallQual    1460 non-null   int64  \n",
      " 18  OverallCond    1460 non-null   int64  \n",
      " 19  YearBuilt      1460 non-null   int64  \n",
      " 20  YearRemodAdd   1460 non-null   int64  \n",
      " 21  RoofStyle      1460 non-null   object \n",
      " 22  RoofMatl       1460 non-null   object \n",
      " 23  Exterior1st    1460 non-null   object \n",
      " 24  Exterior2nd    1460 non-null   object \n",
      " 25  MasVnrType     1452 non-null   object \n",
      " 26  MasVnrArea     1452 non-null   float64\n",
      " 27  ExterQual      1460 non-null   object \n",
      " 28  ExterCond      1460 non-null   object \n",
      " 29  Foundation     1460 non-null   object \n",
      " 30  BsmtQual       1423 non-null   object \n",
      " 31  BsmtCond       1423 non-null   object \n",
      " 32  BsmtExposure   1422 non-null   object \n",
      " 33  BsmtFinType1   1423 non-null   object \n",
      " 34  BsmtFinSF1     1460 non-null   int64  \n",
      " 35  BsmtFinType2   1422 non-null   object \n",
      " 36  BsmtFinSF2     1460 non-null   int64  \n",
      " 37  BsmtUnfSF      1460 non-null   int64  \n",
      " 38  TotalBsmtSF    1460 non-null   int64  \n",
      " 39  Heating        1460 non-null   object \n",
      " 40  HeatingQC      1460 non-null   object \n",
      " 41  CentralAir     1460 non-null   object \n",
      " 42  Electrical     1459 non-null   object \n",
      " 43  1stFlrSF       1460 non-null   int64  \n",
      " 44  2ndFlrSF       1460 non-null   int64  \n",
      " 45  LowQualFinSF   1460 non-null   int64  \n",
      " 46  GrLivArea      1460 non-null   int64  \n",
      " 47  BsmtFullBath   1460 non-null   int64  \n",
      " 48  BsmtHalfBath   1460 non-null   int64  \n",
      " 49  FullBath       1460 non-null   int64  \n",
      " 50  HalfBath       1460 non-null   int64  \n",
      " 51  BedroomAbvGr   1460 non-null   int64  \n",
      " 52  KitchenAbvGr   1460 non-null   int64  \n",
      " 53  KitchenQual    1460 non-null   object \n",
      " 54  TotRmsAbvGrd   1460 non-null   int64  \n",
      " 55  Functional     1460 non-null   object \n",
      " 56  Fireplaces     1460 non-null   int64  \n",
      " 57  FireplaceQu    770 non-null    object \n",
      " 58  GarageType     1379 non-null   object \n",
      " 59  GarageYrBlt    1379 non-null   float64\n",
      " 60  GarageFinish   1379 non-null   object \n",
      " 61  GarageCars     1460 non-null   int64  \n",
      " 62  GarageArea     1460 non-null   int64  \n",
      " 63  GarageQual     1379 non-null   object \n",
      " 64  GarageCond     1379 non-null   object \n",
      " 65  PavedDrive     1460 non-null   object \n",
      " 66  WoodDeckSF     1460 non-null   int64  \n",
      " 67  OpenPorchSF    1460 non-null   int64  \n",
      " 68  EnclosedPorch  1460 non-null   int64  \n",
      " 69  3SsnPorch      1460 non-null   int64  \n",
      " 70  ScreenPorch    1460 non-null   int64  \n",
      " 71  PoolArea       1460 non-null   int64  \n",
      " 72  PoolQC         7 non-null      object \n",
      " 73  Fence          281 non-null    object \n",
      " 74  MiscFeature    54 non-null     object \n",
      " 75  MiscVal        1460 non-null   int64  \n",
      " 76  MoSold         1460 non-null   int64  \n",
      " 77  YrSold         1460 non-null   int64  \n",
      " 78  SaleType       1460 non-null   object \n",
      " 79  SaleCondition  1460 non-null   object \n",
      " 80  SalePrice      1460 non-null   int64  \n",
      "dtypes: float64(3), int64(35), object(43)\n",
      "memory usage: 924.0+ KB\n"
     ]
    }
   ],
   "source": [
    "# View column names and data types\n",
    "train.info()\n",
    "# Also, note that there are some columns with fewer non-null values."
   ]
  },
  {
   "cell_type": "code",
   "execution_count": 5,
   "metadata": {},
   "outputs": [
    {
     "data": {
      "text/plain": [
       "PoolQC          1453\n",
       "MiscFeature     1406\n",
       "Alley           1369\n",
       "Fence           1179\n",
       "FireplaceQu      690\n",
       "LotFrontage      259\n",
       "GarageCond        81\n",
       "GarageType        81\n",
       "GarageYrBlt       81\n",
       "GarageFinish      81\n",
       "GarageQual        81\n",
       "BsmtExposure      38\n",
       "BsmtFinType2      38\n",
       "BsmtFinType1      37\n",
       "BsmtCond          37\n",
       "BsmtQual          37\n",
       "MasVnrArea         8\n",
       "MasVnrType         8\n",
       "Electrical         1\n",
       "Utilities          0\n",
       "dtype: int64"
      ]
     },
     "execution_count": 5,
     "metadata": {},
     "output_type": "execute_result"
    }
   ],
   "source": [
    "# Count of null values in each column\n",
    "train.isnull().sum().sort_values(ascending=False).head(20)\n",
    "# There are 19 columns with null values in the data set"
   ]
  },
  {
   "cell_type": "markdown",
   "metadata": {},
   "source": [
    "## 2. Null/NA Values\n",
    "Looking at the description of the data shows that null values don't necessarily indicate that the data is missing or unknown, but rather, their meaning is often that the feature is absent from or non-existent for that property. For example: \n",
    "\n",
    "| Feature | Value | Meaning |\n",
    "| --- | --- | --- |\n",
    "| PoolQC | NA | No Pool | \n",
    "| MiscFeature | NA | No Misc. Feature |\n",
    "| Alley | NA | No Alley Access | \n",
    "| Fence | NA | No Fence | \n",
    "\n",
    "Features where NA/NaN actually means null (missing data):\n",
    "- LotFrontage \n",
    "- GarageYrBlt\n",
    "- MasVnrArea\n",
    "- Electrical"
   ]
  },
  {
   "cell_type": "markdown",
   "metadata": {},
   "source": [
    "#### 2.a. Replace null values with correct meaning."
   ]
  },
  {
   "cell_type": "code",
   "execution_count": 6,
   "metadata": {},
   "outputs": [],
   "source": [
    "# the features where null means 'absent'\n",
    "features_to_fix = [\"PoolQC\", \"MiscFeature\", \"Alley\", \"FireplaceQu\", \"Fence\",\n",
    "                \"GarageCond\", \"GarageType\", \"GarageFinish\", \"GarageQual\",\n",
    "                \"BsmtExposure\", \"BsmtFinType2\", \"BsmtFinType1\", \"BsmtCond\", \"BsmtQual\",\n",
    "               ]"
   ]
  },
  {
   "cell_type": "code",
   "execution_count": 7,
   "metadata": {},
   "outputs": [
    {
     "data": {
      "text/plain": [
       "PoolQC          object\n",
       "MiscFeature     object\n",
       "Alley           object\n",
       "FireplaceQu     object\n",
       "Fence           object\n",
       "GarageCond      object\n",
       "GarageType      object\n",
       "GarageFinish    object\n",
       "GarageQual      object\n",
       "BsmtExposure    object\n",
       "BsmtFinType2    object\n",
       "BsmtFinType1    object\n",
       "BsmtCond        object\n",
       "BsmtQual        object\n",
       "dtype: object"
      ]
     },
     "execution_count": 7,
     "metadata": {},
     "output_type": "execute_result"
    }
   ],
   "source": [
    "# confirm that they are object types\n",
    "train[features_to_fix].dtypes"
   ]
  },
  {
   "cell_type": "code",
   "execution_count": 8,
   "metadata": {},
   "outputs": [],
   "source": [
    "# replace null in these features with 'absent'\n",
    "train[features_to_fix] = train[features_to_fix].fillna(\"Absent\")"
   ]
  },
  {
   "cell_type": "code",
   "execution_count": 9,
   "metadata": {},
   "outputs": [
    {
     "data": {
      "text/plain": [
       "PoolQC          0\n",
       "MiscFeature     0\n",
       "Alley           0\n",
       "FireplaceQu     0\n",
       "Fence           0\n",
       "GarageCond      0\n",
       "GarageType      0\n",
       "GarageFinish    0\n",
       "GarageQual      0\n",
       "BsmtExposure    0\n",
       "BsmtFinType2    0\n",
       "BsmtFinType1    0\n",
       "BsmtCond        0\n",
       "BsmtQual        0\n",
       "dtype: int64"
      ]
     },
     "execution_count": 9,
     "metadata": {},
     "output_type": "execute_result"
    }
   ],
   "source": [
    "# confirm that there no more nulls\n",
    "train[features_to_fix].isnull().sum()"
   ]
  },
  {
   "cell_type": "markdown",
   "metadata": {},
   "source": [
    "#### 2.b. Replace actual null data with average of the feature."
   ]
  },
  {
   "cell_type": "code",
   "execution_count": 10,
   "metadata": {},
   "outputs": [
    {
     "name": "stdout",
     "output_type": "stream",
     "text": [
      "The number of nulls in each column:\n",
      " LotFrontage    259\n",
      "GarageYrBlt     81\n",
      "MasVnrType       8\n",
      "MasVnrArea       8\n",
      "Electrical       1\n",
      "dtype: int64\n",
      "\n",
      "The data types are:\n",
      " LotFrontage    float64\n",
      "GarageYrBlt    float64\n",
      "MasVnrType      object\n",
      "MasVnrArea     float64\n",
      "Electrical      object\n",
      "dtype: object\n"
     ]
    }
   ],
   "source": [
    "# print null counts\n",
    "print(\"The number of nulls in each column:\\n\",\n",
    "    train[['LotFrontage', 'GarageYrBlt', 'MasVnrType', 'MasVnrArea', 'Electrical']].isnull().sum())\n",
    "# print data types\n",
    "print(\"\\nThe data types are:\\n\",\n",
    "    train[['LotFrontage', 'GarageYrBlt', 'MasVnrType', 'MasVnrArea', 'Electrical']].dtypes)"
   ]
  },
  {
   "cell_type": "code",
   "execution_count": 11,
   "metadata": {
    "scrolled": true
   },
   "outputs": [],
   "source": [
    "# LotFrontage\n",
    "# Replace null values by the average for that neighborhood\n",
    "train['LotFrontage'] = train.groupby('Neighborhood')['LotFrontage'].transform(\n",
    "    lambda x: x.fillna(x.mean()))"
   ]
  },
  {
   "cell_type": "code",
   "execution_count": 12,
   "metadata": {},
   "outputs": [],
   "source": [
    "# GarageYrBlt\n",
    "# Replace year by average of years from neighborhood\n",
    "train['GarageYrBlt'] = train.groupby('Neighborhood')['GarageYrBlt'].transform(\n",
    "    lambda x: x.fillna(x.mean().astype(int)))"
   ]
  },
  {
   "cell_type": "code",
   "execution_count": 13,
   "metadata": {},
   "outputs": [],
   "source": [
    "# MasVnrType \n",
    "# This is a little different from the other features because \n",
    "# it has both 'None' and NaN values\n",
    "\n",
    "# I will replace the missing null values with the mode,\n",
    "# meaning the most frequently used type in the neighborhood\n",
    "train['MasVnrType'] = train.groupby('Neighborhood')['MasVnrType'].transform(\n",
    "    lambda x: x.fillna(x.mode()[0]))"
   ]
  },
  {
   "cell_type": "code",
   "execution_count": 14,
   "metadata": {},
   "outputs": [
    {
     "name": "stdout",
     "output_type": "stream",
     "text": [
      "      MasVnrArea MasVnrType\n",
      "234          NaN       None\n",
      "529          NaN       None\n",
      "650          NaN       None\n",
      "936          NaN       None\n",
      "973          NaN       None\n",
      "977          NaN       None\n",
      "1243         NaN      Stone\n",
      "1278         NaN       None\n",
      "\n",
      "The properties without Masonry Veneer use:\n",
      "MasVnrArea  MasVnrType\n",
      "0.0         None          859\n",
      "1.0         None            2\n",
      "344.0       None            1\n",
      "312.0       None            1\n",
      "288.0       None            1\n",
      "dtype: int64\n"
     ]
    }
   ],
   "source": [
    "# MasVnrArea\n",
    "# All of these nulls are for properties with no masonry veneer is not used\n",
    "print(train[['MasVnrArea', 'MasVnrType']].loc[train.MasVnrArea.isnull()])\n",
    "\n",
    "# The data mostly uses zero for area of properties without masonry veneer\n",
    "print(\"\\nThe properties without Masonry Veneer use:\")\n",
    "print(train[['MasVnrArea', 'MasVnrType']].loc[train.MasVnrType==\"None\"].value_counts())\n",
    "\n",
    "# So, the corresponding areas can be set to zero\n",
    "train['MasVnrArea'].fillna(0, inplace=True)"
   ]
  },
  {
   "cell_type": "code",
   "execution_count": 15,
   "metadata": {},
   "outputs": [],
   "source": [
    "# Electrical\n",
    "# There is only one row where this is null [1379]\n",
    "# I will replace it with the most frequently used system in its neighborhood\n",
    "train['Electrical'] = train.groupby('Neighborhood')['Electrical'].transform(\n",
    "    lambda x: x.fillna(x.mode()[0]))"
   ]
  },
  {
   "cell_type": "code",
   "execution_count": 16,
   "metadata": {},
   "outputs": [
    {
     "name": "stdout",
     "output_type": "stream",
     "text": [
      "The number of nulls:\n",
      "LotFrontage    0\n",
      "GarageYrBlt    0\n",
      "MasVnrType     0\n",
      "MasVnrArea     0\n",
      "Electrical     0\n",
      "dtype: int64\n"
     ]
    }
   ],
   "source": [
    "# confirm there are no more nulls left\n",
    "print(\"The number of nulls:\")\n",
    "print(train[['LotFrontage', 'GarageYrBlt', 'MasVnrType', 'MasVnrArea', 'Electrical']].isnull().sum())"
   ]
  },
  {
   "cell_type": "markdown",
   "metadata": {},
   "source": [
    "For the entire data set, there are no more null values remaining."
   ]
  },
  {
   "cell_type": "code",
   "execution_count": 17,
   "metadata": {},
   "outputs": [
    {
     "data": {
      "text/plain": [
       "SalePrice      0\n",
       "Heating        0\n",
       "RoofStyle      0\n",
       "RoofMatl       0\n",
       "Exterior1st    0\n",
       "dtype: int64"
      ]
     },
     "execution_count": 17,
     "metadata": {},
     "output_type": "execute_result"
    }
   ],
   "source": [
    "train.isnull().sum().sort_values(ascending=False).head()"
   ]
  },
  {
   "cell_type": "markdown",
   "metadata": {},
   "source": [
    "## 3. Unnecessary Features\n",
    "There are some columns with almost all values being the same, so they will not be a useful feature to use for prediction, and I will remove those."
   ]
  },
  {
   "cell_type": "markdown",
   "metadata": {},
   "source": [
    "#### 3.a. Remove columns with few categories where most values are the same.\n",
    "I got this idea from this notebook: https://www.kaggle.com/fedi1996/house-prices-data-cleaning-viz-and-modeling"
   ]
  },
  {
   "cell_type": "code",
   "execution_count": 18,
   "metadata": {},
   "outputs": [
    {
     "name": "stdout",
     "output_type": "stream",
     "text": [
      "Pave    1454\n",
      "Grvl       6\n",
      "Name: Street, dtype: int64 \n",
      "\n",
      "AllPub    1459\n",
      "NoSeWa       1\n",
      "Name: Utilities, dtype: int64 \n",
      "\n",
      "Y    1365\n",
      "N      95\n",
      "Name: CentralAir, dtype: int64 \n",
      "\n"
     ]
    }
   ],
   "source": [
    "# Check for columns with few categories\n",
    "for col in train.columns:\n",
    "    if len(train[col].value_counts()) < 3:\n",
    "        print(train[col].value_counts(), \"\\n\")"
   ]
  },
  {
   "cell_type": "code",
   "execution_count": 19,
   "metadata": {},
   "outputs": [],
   "source": [
    "# I will drop columns for 'Street' and 'Utilities'\n",
    "# They both have mostly the same values for all properties\n",
    "train.drop(columns=['Street', 'Utilities'], inplace=True)"
   ]
  },
  {
   "cell_type": "markdown",
   "metadata": {},
   "source": [
    "## 4. Test Data Nulls\n",
    "Here, I will replace the null values that are in the test data, but not in the train data."
   ]
  },
  {
   "cell_type": "code",
   "execution_count": 20,
   "metadata": {},
   "outputs": [],
   "source": [
    "# load updated test data\n",
    "test = pd.read_csv(\"CleanTest.csv\")"
   ]
  },
  {
   "cell_type": "code",
   "execution_count": 21,
   "metadata": {},
   "outputs": [
    {
     "data": {
      "text/plain": [
       "MSZoning        4\n",
       "Functional      2\n",
       "BsmtHalfBath    2\n",
       "BsmtFullBath    2\n",
       "BsmtFinSF2      1\n",
       "KitchenQual     1\n",
       "Exterior2nd     1\n",
       "GarageCars      1\n",
       "GarageArea      1\n",
       "Exterior1st     1\n",
       "SaleType        1\n",
       "BsmtFinSF1      1\n",
       "TotalBsmtSF     1\n",
       "BsmtUnfSF       1\n",
       "BsmtQual        0\n",
       "dtype: int64"
      ]
     },
     "execution_count": 21,
     "metadata": {},
     "output_type": "execute_result"
    }
   ],
   "source": [
    "# view remaining nulls\n",
    "test.isnull().sum().sort_values(ascending=False).head(15)"
   ]
  },
  {
   "cell_type": "code",
   "execution_count": 22,
   "metadata": {},
   "outputs": [],
   "source": [
    "# column names for features with nulls in test data\n",
    "nullcols = (test.isnull().sum().sort_values(ascending=False).head(14).index)"
   ]
  },
  {
   "cell_type": "code",
   "execution_count": 23,
   "metadata": {},
   "outputs": [
    {
     "data": {
      "text/plain": [
       "MSZoning         object\n",
       "Functional       object\n",
       "BsmtHalfBath    float64\n",
       "BsmtFullBath    float64\n",
       "BsmtFinSF2      float64\n",
       "KitchenQual      object\n",
       "Exterior2nd      object\n",
       "GarageCars      float64\n",
       "GarageArea      float64\n",
       "Exterior1st      object\n",
       "SaleType         object\n",
       "BsmtFinSF1      float64\n",
       "TotalBsmtSF     float64\n",
       "BsmtUnfSF       float64\n",
       "dtype: object"
      ]
     },
     "execution_count": 23,
     "metadata": {},
     "output_type": "execute_result"
    }
   ],
   "source": [
    "test[nullcols].dtypes"
   ]
  },
  {
   "cell_type": "code",
   "execution_count": 24,
   "metadata": {},
   "outputs": [],
   "source": [
    "for col in nullcols:\n",
    "    if test[col].dtype==object:\n",
    "        # replace with most frequent value from neighborhood\n",
    "        test[col] = test.groupby('Neighborhood')[col].transform(\n",
    "            lambda x: x.fillna(x.mode()[0]))\n",
    "    else:\n",
    "        # replace with average for neighborhood\n",
    "        test[col] = test.groupby('Neighborhood')[col].transform(\n",
    "            lambda x: x.fillna(x.mean()))"
   ]
  },
  {
   "cell_type": "code",
   "execution_count": 25,
   "metadata": {},
   "outputs": [
    {
     "data": {
      "text/plain": [
       "SaleCondition    0\n",
       "BsmtQual         0\n",
       "Exterior1st      0\n",
       "Exterior2nd      0\n",
       "MasVnrType       0\n",
       "dtype: int64"
      ]
     },
     "execution_count": 25,
     "metadata": {},
     "output_type": "execute_result"
    }
   ],
   "source": [
    "# confirm there are no more nulls in the test data\n",
    "test.isnull().sum().sort_values(ascending=False).head()"
   ]
  },
  {
   "cell_type": "markdown",
   "metadata": {},
   "source": [
    "## 5. Save Data\n",
    "Since the data is now cleaned, save the data set to a new .csv file."
   ]
  },
  {
   "cell_type": "code",
   "execution_count": 26,
   "metadata": {},
   "outputs": [],
   "source": [
    "train.to_csv(\"CleanTrain.csv\", index=False)"
   ]
  },
  {
   "cell_type": "code",
   "execution_count": 27,
   "metadata": {},
   "outputs": [],
   "source": [
    "test.to_csv(\"CleanTest.csv\", index=False)"
   ]
  }
 ],
 "metadata": {
  "kernelspec": {
   "display_name": "Python 3",
   "language": "python",
   "name": "python3"
  },
  "language_info": {
   "codemirror_mode": {
    "name": "ipython",
    "version": 3
   },
   "file_extension": ".py",
   "mimetype": "text/x-python",
   "name": "python",
   "nbconvert_exporter": "python",
   "pygments_lexer": "ipython3",
   "version": "3.8.5"
  }
 },
 "nbformat": 4,
 "nbformat_minor": 4
}
